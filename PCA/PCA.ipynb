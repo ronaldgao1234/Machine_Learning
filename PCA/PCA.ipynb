{
 "cells": [
  {
   "cell_type": "markdown",
   "metadata": {},
   "source": [
    "## Steps\n",
    "- https://www.youtube.com/watch?v=fKivxsVlycs  Great!\n",
    "1. zero out the mean\n",
    "2. Compute covariance matrix $\\Sigma$\n",
    "3. Multiply a vector by $\\Sigma$\n",
    "    - Why? The proof in the notes show that $\\Sigma$ is the principal eigenvalue. (The eigenvector corresponding to the eigenvalue of largest magnitude is called the principal eigenvector) \n",
    "    - slope of vector is converging to something. if u look carefully, that is the dimension where the data points seem to be spread out the most or (iow) of the greatest variance\n",
    "    - https://math.stackexchange.com/questions/243533/how-to-intuitively-understand-eigenvalue-and-eigenvector\n",
    "4. Or instead of step 3, get vectors that aren't turned after you multiply by the covariance matrix\n",
    "    - mathematically: $\\Sigma e = \\lambda e$\n",
    "    - for dxd cov. matrix youll get d eigenvectors"
   ]
  },
  {
   "cell_type": "code",
   "execution_count": null,
   "metadata": {},
   "outputs": [],
   "source": []
  }
 ],
 "metadata": {
  "kernelspec": {
   "display_name": "Python 3",
   "language": "python",
   "name": "python3"
  },
  "language_info": {
   "codemirror_mode": {
    "name": "ipython",
    "version": 3
   },
   "file_extension": ".py",
   "mimetype": "text/x-python",
   "name": "python",
   "nbconvert_exporter": "python",
   "pygments_lexer": "ipython3",
   "version": "3.6.4"
  }
 },
 "nbformat": 4,
 "nbformat_minor": 2
}
